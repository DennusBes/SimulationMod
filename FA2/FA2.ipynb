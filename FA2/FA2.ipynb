{
 "cells": [
  {
   "cell_type": "markdown",
   "metadata": {},
   "source": [
    "<h1>Final assignment: Voorspellen met Monte Carlo</h1>\n",
    "<h2>Door: Dennis Besselsen V2A</h2>\n"
   ]
  },
  {
   "cell_type": "markdown",
   "metadata": {},
   "source": [
    "In dit notebook leg ik uit hoe ik met gebruik van verschillende Pseudo number generators, een voorbeeld voetbal toernooi kan simuleren monte-carlo style."
   ]
  },
  {
   "cell_type": "markdown",
   "metadata": {},
   "source": [
    "Als eerst ga ik de tabel met kansen (winst/ gelijk/ verlies tijdens thuiswedstrijden) vullen aan de hand van de data op canvas.\n",
    "\n",
    "Dit doe ik d.m.v. van een dictionary.\n",
    "\n",
    "Elke team heeft 1 key in de dict. Elke value is een lijst van kansen. De order van values in deze lijsten is gelijk als die van de keys, ofwel:\n",
    "\n",
    " - index[0]=Ajax\n",
    " - index[1]=Feyenoord\n",
    " - index[2]=PSV\n",
    " - index[3]=FC Utrecht\n",
    " - index[4]=Willem II\n",
    "\n",
    "Teams kunnen niet tegen zichzelf spelen, dus deze plekken in de lijsten worden gevuld met None."
   ]
  },
  {
   "cell_type": "code",
   "execution_count": 62,
   "metadata": {},
   "outputs": [],
   "source": [
    "chance_dict = { 'Ajax':         [None,      '65/17/18', '54/21/25', '74/14/12', '78/13/9'   ],\n",
    "                'Feyenoord':    ['30/21/49',None,       '37/24/39', '51/22/27', '60/21/19'  ],\n",
    "                'PSV':          ['39/22/39','54/22/24', None,       '62/20/18', '62/22/16'  ],\n",
    "                'FC Utrecht':   ['25/14/61','37/23/40', '29/24/47', None,       '52/23/25'  ],\n",
    "                'Willem II':    ['17/18/65','20/26/54', '23/24/53', '37/25/38', None        ]}\n",
    "                "
   ]
  },
  {
   "cell_type": "markdown",
   "metadata": {},
   "source": [
    "<h1>De eerste PRNG : Middle Square PRNG</h1>\n",
    "SOURCE: Canvas /  tijdens de les doorgenomen\n",
    "\n",
    "Deze PRNG zal outputs repeaten na ongeveer 90 tries, afhankelijk van de exacte seed. Om deze reden is de Middle Square PRNG niet geschikt voor het simuleren van dit toernooi, maar het leek me toch leuk om hem mee te nemen.\n"
   ]
  },
  {
   "cell_type": "code",
   "execution_count": 63,
   "metadata": {},
   "outputs": [],
   "source": [
    "class MidSquareGen(object):   # Algemene opzet voor een RNG object: init, en next. Optioneel (re)set seed.\n",
    "    def __init__(self, seed):\n",
    "        self.seed = seed\n",
    "        \n",
    "    def reset(self, seed):\n",
    "        self.seed = seed\n",
    "        \n",
    "    def next(self):\n",
    "        self.seed = MidSquareGen.select_middle(self.seed**2, 4) # Bereken volgende seed (en bewaar die)\n",
    "        return self.seed / 10000.0                 # Bereken waarde uit seed (kan de geschaalde seed zijn, of een complexere functie)\n",
    "\n",
    "    @staticmethod\n",
    "    def select_middle(number, positions):       # Statische helperfunctie\n",
    "        left = True\n",
    "        while len(str(number)) > positions:\n",
    "            if left: \n",
    "                number = int(str(number)[1:])\n",
    "                left = False\n",
    "            else:\n",
    "                number = int(str(number)[:-1])\n",
    "                left = True\n",
    "        return number\n",
    "        \n",
    "# start seed door willekeurig op mijn toetsenbord te rammen :)\n",
    "rng_ms = MidSquareGen(5566778885464564563567324524978654423)"
   ]
  },
  {
   "cell_type": "markdown",
   "metadata": {},
   "source": [
    "<h1>De eerste PRNG : Mersenne Twister PRNG</h1>\n",
    "Sources: https://github.com/yinengy/Mersenne-Twister-in-Python       &        https://en.wikipedia.org/wiki/Mersenne_Twister\n",
    "\n",
    "Deze PRNG zal outputs repeaten na ongeveer 19000 tries, afhankelijk van de exacte seed. Dit PRNG is daarom veel beter geschikt voor het simuleren van dit toernooi.\n"
   ]
  },
  {
   "cell_type": "code",
   "execution_count": 72,
   "metadata": {},
   "outputs": [],
   "source": [
    "\n",
    "class Twister():\n",
    "    def __init__(self, c_seed=0):\n",
    "        # standaard MT19937 die een 32-bit word length gebruikt.\n",
    "        # w is de word lengte in bits.\n",
    "        # n is de mate van herhaling.\n",
    "        # m is de offset van het middelste word\n",
    "        # r is het scheidings punt van woorden\n",
    "        (self.w, self.n, self.m, self.r) = (32, 624, 397, 31)\n",
    "        # a is de coëfficiënt van de rationale normaalvorm \n",
    "        self.a = 0x9908B0DF\n",
    "        \n",
    "        # s & t zijn hier bitshifts\n",
    "        # b & c zijn bitmasks\n",
    "        (self.s, self.b) = (7, 0x9D2C5680)\n",
    "        (self.t, self.c) = (15, 0xEFC60000)\n",
    "         # u & l zijn extra bitshifts en d is een extra bitmasks\n",
    "        (self.u, self.d, self.l) = (11, 0xFFFFFFFF, 18)\n",
    "        \n",
    "        self.f = 1812433253\n",
    "        # make a arry to store the state of the generator\n",
    "        self.MT = [0 for i in range(self.n)]\n",
    "        self.index = self.n+1\n",
    "        self.lower_mask = 0x7FFFFFFF\n",
    "        self.upper_mask = 0x80000000\n",
    "        # inital the seed\n",
    "        self.c_seed = c_seed\n",
    "        self.seed(c_seed)\n",
    "\n",
    "    def seed(self, num):\n",
    "        \"\"\"initialize the generator from a seed\"\"\"\n",
    "        self.MT[0] = num\n",
    "        self.index = self.n\n",
    "        for i in range(1, self.n):\n",
    "            temp = self.f * (self.MT[i-1] ^ (self.MT[i-1] >> (self.w-2))) + i\n",
    "            self.MT[i] = temp & 0xffffffff\n",
    "\n",
    "    def twist(self):\n",
    "        \"\"\" Generate the next n values from the series x_i\"\"\"\n",
    "        for i in range(0, self.n):\n",
    "            x = (self.MT[i] & self.upper_mask) + \\\n",
    "                (self.MT[(i+1) % self.n] & self.lower_mask)\n",
    "            xA = x >> 1\n",
    "            if (x % 2) != 0:\n",
    "                xA = xA ^ self.a\n",
    "            self.MT[i] = self.MT[(i + self.m) % self.n] ^ xA\n",
    "        self.index = 0\n",
    "\n",
    "    def extract_number(self):\n",
    "        \"\"\" Extract a tempered value based on MT[index]\n",
    "            calling twist() every n numbers\n",
    "        \"\"\"\n",
    "        if self.index >= self.n:\n",
    "            self.twist()\n",
    "\n",
    "        y = self.MT[self.index]\n",
    "        y = y ^ ((y >> self.u) & self.d)\n",
    "        y = y ^ ((y << self.s) & self.b)\n",
    "        y = y ^ ((y << self.t) & self.c)\n",
    "        y = y ^ (y >> self.l)\n",
    "\n",
    "        self.index += 1\n",
    "        return y & 0xffffffff\n",
    "\n",
    "    def random(self):\n",
    "        \"\"\" return uniform ditribution in [0,1) \"\"\"\n",
    "        return self.extract_number() / 2**self.w  \n",
    "\n",
    "#Seed '1337420' heb ik handmatig ingevuld \n",
    "rng_mt = Twister(1337420)"
   ]
  },
  {
   "cell_type": "markdown",
   "metadata": {},
   "source": [
    "\n",
    "<h1>Het simuleren van het toernooi</h1>\n",
    "Ik wil de wedstrijden als volgt simuleren\n",
    "\n",
    "Voorbeeld: Team A(home) tegen Team B(away) heeft als kansen: 50/40/10. ( 50% kans om te winnen, 40% op gelijk spel, 10% kans op verlies)\n",
    "\n",
    " Deze waardes zet ik om naar: 0.50/0.40/0.10\n",
    "\n",
    "Vervolgens laat ik een van de boven getoonde PRNG een getal tussen te 0 en 1 genereren.\n",
    "\n",
    "Als dit Pseudo-random getal onder 0.5 valt of exact 0.5 is, heeft team A gewonnen.  \n",
    "\n",
    "Als dit Pseudo-random getal boven 0.5 is maar onder (0.5 + 0.4), hebben de teams gelijk gespeeld.\n",
    "\n",
    "Alle overige opties duiden op het verlies van team A.\n",
    "\n",
    "\n",
    "\n"
   ]
  },
  {
   "cell_type": "code",
   "execution_count": 68,
   "metadata": {},
   "outputs": [],
   "source": [
    "\n",
    "def WDL_sim(chance_dict,generator):\n",
    "    \n",
    "    # Dictionary waar de score wordt bijgehouden\n",
    "    score_dict = { 'Ajax':0,\n",
    "                'Feyenoord':0,\n",
    "                'PSV':0,\n",
    "                'FC Utrecht':0,\n",
    "                'Willem II':0}\n",
    "\n",
    "    # Dictionary wat gebruikt wordt voor het verdelen van punten aan de 'away' teams\n",
    "    away_dict = { 0:'Ajax',\n",
    "                1:'Feyenoord',\n",
    "                2:'PSV',\n",
    "                3:'FC Utrecht',\n",
    "                4:'Willem II'}\n",
    "\n",
    "\n",
    "    for home_team,chances in chance_dict.items():\n",
    "        for chance in chances:\n",
    "            if chance != None:\n",
    "\n",
    "                # split de value op elke  '/' , en deel ze waardes door 100 zodat het komma getallen worden tussen 0 en 1\n",
    "                float_list = [(float(s)/100) for s in chance.split('/')]\n",
    "\n",
    "                # win_perc is de eerste value in de list, loss_perc is de eerste 2 values in de list bij elkaar opgeteld.\n",
    "                win_perc = float_list[0]\n",
    "                loss_perc = float_list[1]+float_list[0]\n",
    "                \n",
    "                # Gebruik Mersenne Twister PRNG\n",
    "                if generator == 'mt':\n",
    "                    gen_chance = rng_mt.random()\n",
    "                # Gebruik Middle Square PRNG    \n",
    "                elif generator == 'ms':                   \n",
    "                    gen_chance = rng_ms.next()\n",
    "                else:\n",
    "                    print(\"Er is geen geldige PRNG aangegeven. ABORTING\")\n",
    "                \n",
    "                    \n",
    "                if gen_chance <= win_perc:\n",
    "                    score_dict[home_team] += 3                              # home team points +3\n",
    "\n",
    "                elif gen_chance > win_perc and gen_chance < loss_perc:\n",
    "                    score_dict[home_team] += 1                              # home team points +1\n",
    "                    score_dict[away_dict[chances.index(chance)]]+=1         # away team points +1\n",
    "                    \n",
    "                    \n",
    "                else:  # alle andere opties zijn geelimineerd dus hier kan else gebruikt worden\n",
    "                    score_dict[away_dict[chances.index(chance)]]+=3   # away team points +3\n",
    "    \n",
    "    # Hier worden de teams op score gesorteerd.  Het result is een list van teams op volgorde van position in het kampioenschap. De scores worden niet meegenomen.\n",
    "    sorted_positions = sorted(score_dict, key=score_dict.get, reverse=True)\n",
    "                 \n",
    "    return sorted_positions\n",
    "                \n",
    "                "
   ]
  },
  {
   "cell_type": "code",
   "execution_count": 66,
   "metadata": {},
   "outputs": [],
   "source": [
    "def sim_spam(iterations, generator):\n",
    "    # dict waar ieder team hun kansen op plaatsen in het kampioenschap wordt bijgehouden.\n",
    "    # VOORBEELD:  'Ajax': [61.64, 23.72, 9.95, 3.69, 1.0]         betekent dat Ajax in 61.64% van de simulations als eerste in het kampioenschap eindigde, 23.72% van de simulations als tweede etc.\n",
    "    placement_dict = {  'Ajax':         [0,0,0,0,0],\n",
    "                        'Feyenoord':    [0,0,0,0,0],\n",
    "                        'PSV':          [0,0,0,0,0],\n",
    "                        'FC Utrecht':   [0,0,0,0,0],\n",
    "                        'Willem II':    [0,0,0,0,0]}\n",
    "                \n",
    "    for _ in range(iterations):\n",
    "        position_list = WDL_sim(chance_dict,generator)\n",
    "        for idx, val in enumerate(position_list):\n",
    "            placement_dict[val][idx] +=1\n",
    "    for team,placements in placement_dict.items():\n",
    "        templist=[]\n",
    "        for place in placements:\n",
    "            templist.append(round(place / iterations*100,2))\n",
    "        placement_dict[team] = templist\n",
    "    return placement_dict"
   ]
  },
  {
   "cell_type": "markdown",
   "metadata": {},
   "source": [
    "<h1>Results</h1>\n",
    "<h2>Mersenne Twister</h2>"
   ]
  },
  {
   "cell_type": "code",
   "execution_count": 67,
   "metadata": {},
   "outputs": [
    {
     "data": {
      "text/plain": [
       "{'Ajax': [61.57, 23.81, 10.09, 3.62, 0.9],\n",
       " 'Feyenoord': [11.37, 26.18, 31.73, 21.02, 9.7],\n",
       " 'PSV': [22.62, 35.48, 25.21, 12.4, 4.28],\n",
       " 'FC Utrecht': [3.48, 10.55, 21.96, 37.54, 26.46],\n",
       " 'Willem II': [0.96, 3.97, 11.0, 25.42, 58.65]}"
      ]
     },
     "execution_count": 67,
     "metadata": {},
     "output_type": "execute_result"
    }
   ],
   "source": [
    "#100000 itteraties die gebruik maken van de mersenne twister PRNG\n",
    "position_chances = sim_spam(100000, 'mt')\n",
    "position_chances\n"
   ]
  },
  {
   "cell_type": "markdown",
   "metadata": {},
   "source": [
    "<h2>Middle Square</h2>"
   ]
  },
  {
   "cell_type": "code",
   "execution_count": 71,
   "metadata": {},
   "outputs": [
    {
     "data": {
      "text/plain": [
       "{'Ajax': [30.77, 46.15, 15.38, 7.69, 0.0],\n",
       " 'Feyenoord': [23.08, 15.38, 15.38, 38.46, 7.69],\n",
       " 'PSV': [23.08, 15.38, 30.77, 7.69, 23.08],\n",
       " 'FC Utrecht': [15.38, 15.38, 23.08, 15.38, 30.77],\n",
       " 'Willem II': [7.69, 7.69, 15.38, 30.77, 38.46]}"
      ]
     },
     "execution_count": 71,
     "metadata": {},
     "output_type": "execute_result"
    }
   ],
   "source": [
    "#100000 itteraties die gebruik maken van de middle square PRNG\n",
    "position_chances = sim_spam(100000, 'ms')\n",
    "position_chances\n"
   ]
  },
  {
   "cell_type": "markdown",
   "metadata": {},
   "source": [
    "In de results is te zien dat de middle square wat vreemde uitkomsten heeft.\n",
    "\n",
    "Ajax zou volgens de middle squared simulaties nooit op de 5e plaats in het tournament eindigen. Dit slaat natuurlijk nergens op. De kans is daadwerkelijk is wel aanwezig, ookal is deze misschien heel klein.  Dit is te zien in de reults van de Mersenne twister simulaties."
   ]
  }
 ],
 "metadata": {
  "interpreter": {
   "hash": "b3ba2566441a7c06988d0923437866b63cedc61552a5af99d1f4fb67d367b25f"
  },
  "kernelspec": {
   "display_name": "Python 3.8.8 64-bit ('base': conda)",
   "language": "python",
   "name": "python3"
  },
  "language_info": {
   "codemirror_mode": {
    "name": "ipython",
    "version": 3
   },
   "file_extension": ".py",
   "mimetype": "text/x-python",
   "name": "python",
   "nbconvert_exporter": "python",
   "pygments_lexer": "ipython3",
   "version": "3.8.8"
  },
  "orig_nbformat": 4
 },
 "nbformat": 4,
 "nbformat_minor": 2
}
